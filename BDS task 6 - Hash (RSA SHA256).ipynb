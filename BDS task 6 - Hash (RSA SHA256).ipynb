{
 "cells": [
  {
   "cell_type": "markdown",
   "metadata": {},
   "source": [
    "## Task 6(Message Authentication) \n",
    "## CB.EN.P2AID19001\n",
    "## Abhishek Rajesh Pawaskar"
   ]
  },
  {
   "cell_type": "code",
   "execution_count": 1,
   "metadata": {},
   "outputs": [],
   "source": [
    "import pandas as pd\n",
    "import numpy as np\n",
    "import time\n",
    "from random import randrange, getrandbits\n",
    "from math import gcd\n",
    "import hashlib\n",
    "import pandas as pd\n",
    "import matplotlib.pyplot as plt\n",
    "import ast"
   ]
  },
  {
   "cell_type": "code",
   "execution_count": 2,
   "metadata": {},
   "outputs": [
    {
     "data": {
      "text/html": [
       "<div>\n",
       "<style scoped>\n",
       "    .dataframe tbody tr th:only-of-type {\n",
       "        vertical-align: middle;\n",
       "    }\n",
       "\n",
       "    .dataframe tbody tr th {\n",
       "        vertical-align: top;\n",
       "    }\n",
       "\n",
       "    .dataframe thead th {\n",
       "        text-align: right;\n",
       "    }\n",
       "</style>\n",
       "<table border=\"1\" class=\"dataframe\">\n",
       "  <thead>\n",
       "    <tr style=\"text-align: right;\">\n",
       "      <th></th>\n",
       "      <th>pixels</th>\n",
       "    </tr>\n",
       "  </thead>\n",
       "  <tbody>\n",
       "    <tr>\n",
       "      <th>0</th>\n",
       "      <td>70 80 82 72 58 58 60 63 54 58 60 48 89 115 121...</td>\n",
       "    </tr>\n",
       "    <tr>\n",
       "      <th>1</th>\n",
       "      <td>151 150 147 155 148 133 111 140 170 174 182 15...</td>\n",
       "    </tr>\n",
       "    <tr>\n",
       "      <th>2</th>\n",
       "      <td>231 212 156 164 174 138 161 173 182 200 106 38...</td>\n",
       "    </tr>\n",
       "    <tr>\n",
       "      <th>3</th>\n",
       "      <td>24 32 36 30 32 23 19 20 30 41 21 22 32 34 21 1...</td>\n",
       "    </tr>\n",
       "    <tr>\n",
       "      <th>4</th>\n",
       "      <td>4 0 0 0 0 0 0 0 0 0 0 0 3 15 23 28 48 50 58 84...</td>\n",
       "    </tr>\n",
       "  </tbody>\n",
       "</table>\n",
       "</div>"
      ],
      "text/plain": [
       "                                              pixels\n",
       "0  70 80 82 72 58 58 60 63 54 58 60 48 89 115 121...\n",
       "1  151 150 147 155 148 133 111 140 170 174 182 15...\n",
       "2  231 212 156 164 174 138 161 173 182 200 106 38...\n",
       "3  24 32 36 30 32 23 19 20 30 41 21 22 32 34 21 1...\n",
       "4  4 0 0 0 0 0 0 0 0 0 0 0 3 15 23 28 48 50 58 84..."
      ]
     },
     "execution_count": 2,
     "metadata": {},
     "output_type": "execute_result"
    }
   ],
   "source": [
    "dat=pd.read_csv('G:\\\\mtk\\\\sem3\\\\BDS\\\\sample.csv')\n",
    "dat.head()"
   ]
  },
  {
   "cell_type": "markdown",
   "metadata": {},
   "source": [
    "## 1.) SHA256 on a complete file(column)"
   ]
  },
  {
   "cell_type": "code",
   "execution_count": 3,
   "metadata": {},
   "outputs": [
    {
     "name": "stdout",
     "output_type": "stream",
     "text": [
      "d: 4325 e: 5 n: 11021\n"
     ]
    }
   ],
   "source": [
    "p=107\n",
    "q=103\n",
    "n=p*q\n",
    "t=(p-1)*(q-1)\n",
    "\n",
    "for i in range(2,t,1):\n",
    "    if gcd(i,t)==1:\n",
    "        e=i\n",
    "        break\n",
    "for i in range(1,10): \n",
    "    x = 1 + i*t\n",
    "    if x % e == 0: \n",
    "        d = int(x/e) \n",
    "        break\n",
    "        \n",
    "print('d:',d,'e:',e,'n:',n)"
   ]
  },
  {
   "cell_type": "markdown",
   "metadata": {},
   "source": [
    "### Data/message"
   ]
  },
  {
   "cell_type": "code",
   "execution_count": 4,
   "metadata": {},
   "outputs": [],
   "source": [
    "me=dat['pixels']"
   ]
  },
  {
   "cell_type": "markdown",
   "metadata": {},
   "source": [
    "### Message Digest(using hashing) in hexadecimal"
   ]
  },
  {
   "cell_type": "code",
   "execution_count": 5,
   "metadata": {},
   "outputs": [
    {
     "name": "stdout",
     "output_type": "stream",
     "text": [
      "0.0021567000000004555 seconds\n"
     ]
    }
   ],
   "source": [
    "start=time.perf_counter()\n",
    "message_dig = hashlib.new('sha256',str(me).encode()).hexdigest()\n",
    "stop=time.perf_counter()\n",
    "print(stop-start,'seconds')"
   ]
  },
  {
   "cell_type": "code",
   "execution_count": 6,
   "metadata": {},
   "outputs": [],
   "source": [
    "message_dig_int=[ord(message_dig[i]) for i in range(len(message_dig))]"
   ]
  },
  {
   "cell_type": "markdown",
   "metadata": {},
   "source": [
    "### Encryption RSA"
   ]
  },
  {
   "cell_type": "code",
   "execution_count": 7,
   "metadata": {},
   "outputs": [],
   "source": [
    "enc=[pow(message_dig_int[i],e,n) for i in range(len(message_dig_int))]"
   ]
  },
  {
   "cell_type": "markdown",
   "metadata": {},
   "source": [
    "### Decryption RSA"
   ]
  },
  {
   "cell_type": "code",
   "execution_count": 8,
   "metadata": {},
   "outputs": [],
   "source": [
    "dec=[pow(enc[i],d,n) for i in range(len(enc))]"
   ]
  },
  {
   "cell_type": "markdown",
   "metadata": {},
   "source": [
    "### Message Digest Extraction and verification"
   ]
  },
  {
   "cell_type": "code",
   "execution_count": 9,
   "metadata": {},
   "outputs": [
    {
     "name": "stdout",
     "output_type": "stream",
     "text": [
      "data authentic\n"
     ]
    }
   ],
   "source": [
    "mes=''\n",
    "for i in range(len(dec)):\n",
    "    mes=mes+chr(dec[i])\n",
    "    \n",
    "if mes==message_dig:\n",
    "    print('data authentic')"
   ]
  },
  {
   "cell_type": "markdown",
   "metadata": {},
   "source": [
    "## 2. SHA256 on every record(row)"
   ]
  },
  {
   "cell_type": "markdown",
   "metadata": {},
   "source": [
    "### Message Digest(using hashing) in hexadecimal"
   ]
  },
  {
   "cell_type": "code",
   "execution_count": 10,
   "metadata": {},
   "outputs": [
    {
     "name": "stdout",
     "output_type": "stream",
     "text": [
      "1.5424281999999998 seconds\n"
     ]
    }
   ],
   "source": [
    "start=time.perf_counter()\n",
    "with open(\"G:\\\\mtk\\\\sem3\\\\BDS\\\\sample.csv\",'rb')  as file:\n",
    "    with open(\"G:\\\\mtk\\\\sem3\\\\BDS\\\\samplw.csv\",'w')  as output:\n",
    "        for line in file:\n",
    "            line=line.strip()\n",
    "            output.write(hashlib.sha256(line).hexdigest() +'\\n')\n",
    "    \n",
    "stop=time.perf_counter()\n",
    "print(stop-start,'seconds')"
   ]
  },
  {
   "cell_type": "markdown",
   "metadata": {},
   "source": [
    "### Encryption RSA"
   ]
  },
  {
   "cell_type": "code",
   "execution_count": 11,
   "metadata": {},
   "outputs": [],
   "source": [
    "enc=[]\n",
    "with open(\"G:\\\\mtk\\\\sem3\\\\BDS\\\\samplw.csv\",'rb')  as file:\n",
    "    for line in file:\n",
    "        line=line.strip()\n",
    "        line1=[line[i] for i in range(len(line))]\n",
    "        en1=[pow(line1[i],e,n) for i in range(len(line1))]\n",
    "        enc.append(en1)"
   ]
  },
  {
   "cell_type": "markdown",
   "metadata": {},
   "source": [
    "### Decryption RSA"
   ]
  },
  {
   "cell_type": "code",
   "execution_count": 12,
   "metadata": {},
   "outputs": [],
   "source": [
    "dec=[]\n",
    "for i in enc:\n",
    "    de1=[chr(pow(i[f],d,n)) for f in range(len(i))]\n",
    "    ns=''\n",
    "    for s in de1:\n",
    "        ns=ns+s   \n",
    "    dec.append(ns)"
   ]
  },
  {
   "cell_type": "markdown",
   "metadata": {},
   "source": [
    "### Message Digest Extraction and verification"
   ]
  },
  {
   "cell_type": "code",
   "execution_count": 13,
   "metadata": {},
   "outputs": [
    {
     "data": {
      "text/plain": [
       "'successful authentication'"
      ]
     },
     "execution_count": 13,
     "metadata": {},
     "output_type": "execute_result"
    }
   ],
   "source": [
    "def mes_auth():\n",
    "    l=0\n",
    "    with open(\"G:\\\\mtk\\\\sem3\\\\BDS\\\\samplw.csv\",'rb')  as file:\n",
    "        for li in file:\n",
    "            if li.strip().decode()!=dec[l]:\n",
    "                return 'failed Authentication'\n",
    "            l=l+1\n",
    "    return 'successful authentication'\n",
    "\n",
    "mes_auth()"
   ]
  },
  {
   "cell_type": "code",
   "execution_count": null,
   "metadata": {},
   "outputs": [],
   "source": []
  }
 ],
 "metadata": {
  "kernelspec": {
   "display_name": "Python 3",
   "language": "python",
   "name": "python3"
  },
  "language_info": {
   "codemirror_mode": {
    "name": "ipython",
    "version": 3
   },
   "file_extension": ".py",
   "mimetype": "text/x-python",
   "name": "python",
   "nbconvert_exporter": "python",
   "pygments_lexer": "ipython3",
   "version": "3.7.4"
  }
 },
 "nbformat": 4,
 "nbformat_minor": 2
}
