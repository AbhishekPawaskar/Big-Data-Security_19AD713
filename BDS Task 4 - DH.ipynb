{
 "cells": [
  {
   "cell_type": "markdown",
   "metadata": {},
   "source": [
    "## Task 4(Key exchange) – Confidentiality \n",
    "## CB.EN.P2AID19001\n",
    "## Abhishek Rajesh Pawaskar"
   ]
  },
  {
   "cell_type": "code",
   "execution_count": null,
   "metadata": {},
   "outputs": [],
   "source": [
    "import pandas as pd\n",
    "import numpy as np\n",
    "import time\n",
    "from random import randrange, getrandbits\n",
    "from math import gcd\n",
    "import math\n",
    "import sys"
   ]
  },
  {
   "cell_type": "markdown",
   "metadata": {
    "colab_type": "text",
    "id": "f3xTR_XPdBFt"
   },
   "source": [
    "## 1.\tCode for Finding a large prime number (min 20-digit)\n",
    " "
   ]
  },
  {
   "cell_type": "code",
   "execution_count": 2,
   "metadata": {
    "colab": {},
    "colab_type": "code",
    "executionInfo": {
     "elapsed": 2097,
     "status": "ok",
     "timestamp": 1597385680598,
     "user": {
      "displayName": "Abhishek P",
      "photoUrl": "",
      "userId": "00544636123416321204"
     },
     "user_tz": -330
    },
    "id": "agaAqQcwJLfE"
   },
   "outputs": [],
   "source": [
    "def primm(n,k):\n",
    "    s = 0\n",
    "    r = n - 1\n",
    "    while r & 1 == 0:\n",
    "        s += 1\n",
    "        r //= 2\n",
    "    # do k tests\n",
    "    for _ in range(k):\n",
    "        a = randrange(2, n - 1)\n",
    "        x = pow(a, r, n)\n",
    "        if x != 1 and x != n - 1:\n",
    "            j = 1\n",
    "            while j < s and x != n - 1:\n",
    "                x = pow(x, 2, n)\n",
    "                if x == 1:\n",
    "                    return False\n",
    "                j += 1\n",
    "            if x != n - 1:\n",
    "                return False\n",
    "    return True\n",
    "    \n"
   ]
  },
  {
   "cell_type": "code",
   "execution_count": 3,
   "metadata": {
    "colab": {
     "base_uri": "https://localhost:8080/",
     "height": 34
    },
    "colab_type": "code",
    "executionInfo": {
     "elapsed": 19235,
     "status": "ok",
     "timestamp": 1597385698894,
     "user": {
      "displayName": "Abhishek P",
      "photoUrl": "",
      "userId": "00544636123416321204"
     },
     "user_tz": -330
    },
    "id": "RvHMyA3D9g7e",
    "outputId": "2da5cdb0-8ead-43ae-ca54-d31c7ec6ee91"
   },
   "outputs": [
    {
     "name": "stdout",
     "output_type": "stream",
     "text": [
      "16.586071650000008 seconds\n"
     ]
    }
   ],
   "source": [
    "start=time.perf_counter()\n",
    "nli=[]\n",
    "for f in range(53792264108455600000,53792264108455800000,1):\n",
    "    nli.append(int(f))\n",
    "prlist=[]\n",
    "for b in nli:\n",
    "    res=primm(b,128)\n",
    "    if (res== True):\n",
    "      q=int((b*2)+1)\n",
    "      qres=primm(q,128)\n",
    "      if (qres==True):\n",
    "        prlist.append((b,q))\n",
    "\n",
    "stop=time.perf_counter()\n",
    "print(stop-start,'seconds')"
   ]
  },
  {
   "cell_type": "code",
   "execution_count": 4,
   "metadata": {
    "colab": {
     "base_uri": "https://localhost:8080/",
     "height": 34
    },
    "colab_type": "code",
    "executionInfo": {
     "elapsed": 18425,
     "status": "ok",
     "timestamp": 1597385698896,
     "user": {
      "displayName": "Abhishek P",
      "photoUrl": "",
      "userId": "00544636123416321204"
     },
     "user_tz": -330
    },
    "id": "4p3YnSFfOMBN",
    "outputId": "8b42ddc6-3858-4d01-ac03-997f66eda556"
   },
   "outputs": [
    {
     "data": {
      "text/plain": [
       "(53792264108455702829, 107584528216911405659)"
      ]
     },
     "execution_count": 4,
     "metadata": {
      "tags": []
     },
     "output_type": "execute_result"
    }
   ],
   "source": [
    "prlist[73]"
   ]
  },
  {
   "cell_type": "code",
   "execution_count": 5,
   "metadata": {
    "colab": {
     "base_uri": "https://localhost:8080/",
     "height": 34
    },
    "colab_type": "code",
    "executionInfo": {
     "elapsed": 16901,
     "status": "ok",
     "timestamp": 1597385698898,
     "user": {
      "displayName": "Abhishek P",
      "photoUrl": "",
      "userId": "00544636123416321204"
     },
     "user_tz": -330
    },
    "id": "TY7o9ECRP-n8",
    "outputId": "7f527d2e-fe1d-4af3-ad74-b60ce0f1afc5"
   },
   "outputs": [
    {
     "name": "stdout",
     "output_type": "stream",
     "text": [
      "the safe prime is 107584528216911405659 and the Sophie Germain prime is 53792264108455702829\n"
     ]
    }
   ],
   "source": [
    "sgp=prlist[73][0]\n",
    "sfp=prlist[73][1]\n",
    "print('the safe prime is',sfp,'and the Sophie Germain prime is',sgp)"
   ]
  },
  {
   "cell_type": "markdown",
   "metadata": {
    "colab_type": "text",
    "id": "5XRE6YHNewVz"
   },
   "source": [
    "### 2.\tCode for finding Primitive root (min 10 digits)"
   ]
  },
  {
   "cell_type": "markdown",
   "metadata": {
    "colab_type": "text",
    "id": "UGXQlxsUe5BU"
   },
   "source": [
    "To find the primitive root (generator, g) the special property of safe prime 'p' is used, which is, the value of 'g' or the primitive root exists in within range [2, p-2] and if also satisfies the condition,\n",
    "g^((p-1)/2) != 1 mod p and this can be done using the iterative process and modular exponentiation."
   ]
  },
  {
   "cell_type": "code",
   "execution_count": 6,
   "metadata": {
    "colab": {},
    "colab_type": "code",
    "executionInfo": {
     "elapsed": 11519,
     "status": "ok",
     "timestamp": 1597385698900,
     "user": {
      "displayName": "Abhishek P",
      "photoUrl": "",
      "userId": "00544636123416321204"
     },
     "user_tz": -330
    },
    "id": "FHeVqfxzOMEy"
   },
   "outputs": [],
   "source": [
    "def power(x, y, p) : \n",
    "    res = 1     # Initialize result \n",
    "  \n",
    "    # Update x if it is more \n",
    "    # than or equal to p \n",
    "    x = x % p  \n",
    "      \n",
    "    if (x == 0) : \n",
    "        return 0\n",
    "  \n",
    "    while (y > 0) : \n",
    "          \n",
    "        # If y is odd, multiply \n",
    "        # x with result \n",
    "        if ((y & 1) == 1) : \n",
    "            res = (res * x) % p \n",
    "  \n",
    "        # y must be even now \n",
    "        y = y >> 1      # y = y/2 \n",
    "        x = (x * x) % p \n",
    "          \n",
    "    return res "
   ]
  },
  {
   "cell_type": "code",
   "execution_count": 7,
   "metadata": {
    "colab": {
     "base_uri": "https://localhost:8080/",
     "height": 51
    },
    "colab_type": "code",
    "executionInfo": {
     "elapsed": 2250,
     "status": "ok",
     "timestamp": 1597385700365,
     "user": {
      "displayName": "Abhishek P",
      "photoUrl": "",
      "userId": "00544636123416321204"
     },
     "user_tz": -330
    },
    "id": "hlYTO3WROMTc",
    "outputId": "b685014e-4e79-4634-978e-df77ebbc171c"
   },
   "outputs": [
    {
     "name": "stdout",
     "output_type": "stream",
     "text": [
      "0.14445350100004362 seconds\n",
      "13904601036\n"
     ]
    }
   ],
   "source": [
    "start=time.perf_counter()\n",
    "glist=[]\n",
    "for g in range(13904601020,13904605020,1):\n",
    "  re=power(g,sgp,sfp)\n",
    "  if re!=1:\n",
    "    glist.append(g)\n",
    "stop=time.perf_counter()\n",
    "print(stop-start,'seconds')\n",
    "g=glist[10]\n",
    "print(g)"
   ]
  },
  {
   "cell_type": "markdown",
   "metadata": {
    "colab_type": "text",
    "id": "JZjJe49ig8r8"
   },
   "source": [
    "3.\tCode for DH (Taking random private keys (Min 3 of different sizes with min 8 digits)"
   ]
  },
  {
   "cell_type": "code",
   "execution_count": 13,
   "metadata": {
    "colab": {
     "base_uri": "https://localhost:8080/",
     "height": 34
    },
    "colab_type": "code",
    "executionInfo": {
     "elapsed": 894,
     "status": "ok",
     "timestamp": 1597388762380,
     "user": {
      "displayName": "Abhishek P",
      "photoUrl": "",
      "userId": "00544636123416321204"
     },
     "user_tz": -330
    },
    "id": "rnNyiYwZOMRg",
    "outputId": "8987cea6-1d6b-4bba-9e55-57ef2ff08005"
   },
   "outputs": [
    {
     "name": "stdout",
     "output_type": "stream",
     "text": [
      "[421692067 463237873 819253123 366068687 375256764 851503188]\n"
     ]
    }
   ],
   "source": [
    "klist=np.random.randint(100000003, 900000000, size=6, dtype=int)\n",
    "print(klist)\n",
    "modulo=sfp"
   ]
  },
  {
   "cell_type": "markdown",
   "metadata": {
    "colab_type": "text",
    "id": "EdHGzDppiDLb"
   },
   "source": [
    "Key set 1"
   ]
  },
  {
   "cell_type": "code",
   "execution_count": 14,
   "metadata": {
    "colab": {
     "base_uri": "https://localhost:8080/",
     "height": 51
    },
    "colab_type": "code",
    "executionInfo": {
     "elapsed": 1000,
     "status": "ok",
     "timestamp": 1597388780260,
     "user": {
      "displayName": "Abhishek P",
      "photoUrl": "",
      "userId": "00544636123416321204"
     },
     "user_tz": -330
    },
    "id": "36DfmmcKOL_j",
    "outputId": "14a2e45c-b2b0-4477-f21e-6328d768c6cc"
   },
   "outputs": [
    {
     "name": "stdout",
     "output_type": "stream",
     "text": [
      "shared key by A to B 31032566443402930655\n",
      "shared key by B to A 31032566443402930655\n"
     ]
    }
   ],
   "source": [
    "aprk1=klist[0]\n",
    "bprk1=klist[1]\n",
    "apbk1=power(g, aprk1, modulo)\n",
    "bpbk1=power(g, bprk1, modulo)\n",
    "print(\"shared key by A to B\", power(apbk1, bprk1,modulo))\n",
    "print(\"shared key by B to A\", power(bpbk1, aprk1,modulo))\n"
   ]
  },
  {
   "cell_type": "markdown",
   "metadata": {
    "colab_type": "text",
    "id": "0Wa7MqCbjwg8"
   },
   "source": [
    "Key set 2"
   ]
  },
  {
   "cell_type": "code",
   "execution_count": 15,
   "metadata": {
    "colab": {
     "base_uri": "https://localhost:8080/",
     "height": 51
    },
    "colab_type": "code",
    "executionInfo": {
     "elapsed": 1002,
     "status": "ok",
     "timestamp": 1597388783177,
     "user": {
      "displayName": "Abhishek P",
      "photoUrl": "",
      "userId": "00544636123416321204"
     },
     "user_tz": -330
    },
    "id": "PhjDBD8siQ_p",
    "outputId": "e0132e02-8ba3-4745-aa2b-2d6785d2899e"
   },
   "outputs": [
    {
     "name": "stdout",
     "output_type": "stream",
     "text": [
      "shared key by A to B 99665134975376399420\n",
      "shared key by B to A 99665134975376399420\n"
     ]
    }
   ],
   "source": [
    "aprk2=klist[2]\n",
    "bprk2=klist[3]\n",
    "apbk2=power(g, aprk2, modulo)\n",
    "bpbk2=power(g, bprk2, modulo)\n",
    "print(\"shared key by A to B\", power(apbk2, bprk2,modulo))\n",
    "print(\"shared key by B to A\", power(bpbk2, aprk2,modulo))"
   ]
  },
  {
   "cell_type": "markdown",
   "metadata": {
    "colab_type": "text",
    "id": "VlR9dzUNj2Xf"
   },
   "source": [
    "Key set 3"
   ]
  },
  {
   "cell_type": "code",
   "execution_count": 16,
   "metadata": {
    "colab": {
     "base_uri": "https://localhost:8080/",
     "height": 51
    },
    "colab_type": "code",
    "executionInfo": {
     "elapsed": 1246,
     "status": "ok",
     "timestamp": 1597388785552,
     "user": {
      "displayName": "Abhishek P",
      "photoUrl": "",
      "userId": "00544636123416321204"
     },
     "user_tz": -330
    },
    "id": "fu4zPhN4iRCA",
    "outputId": "3495bd35-70da-41ea-b73d-ac8e31bdd1cf"
   },
   "outputs": [
    {
     "name": "stdout",
     "output_type": "stream",
     "text": [
      "shared key by A to B 31862174813869425391\n",
      "shared key by B to A 31862174813869425391\n"
     ]
    }
   ],
   "source": [
    "aprk3=klist[4]\n",
    "bprk3=klist[5]\n",
    "apbk3=power(g, aprk3, modulo)\n",
    "bpbk3=power(g, bprk3, modulo)\n",
    "print(\"shared key by A to B\", power(apbk3, bprk3,modulo))\n",
    "print(\"shared key by B to A\", power(bpbk3, aprk3,modulo))"
   ]
  },
  {
   "cell_type": "markdown",
   "metadata": {
    "colab_type": "text",
    "id": "Wakry3MnkEoh"
   },
   "source": [
    "### 5.\tApply this code to see how long it takes to break your chosen 3 keys. Record your observation as shown in the table(min 3 (p,g) values and for each (p,g) 3 private keys (weak, medium strong and strong) "
   ]
  },
  {
   "cell_type": "code",
   "execution_count": 17,
   "metadata": {
    "colab": {},
    "colab_type": "code",
    "executionInfo": {
     "elapsed": 957,
     "status": "ok",
     "timestamp": 1597388787822,
     "user": {
      "displayName": "Abhishek P",
      "photoUrl": "",
      "userId": "00544636123416321204"
     },
     "user_tz": -330
    },
    "id": "9DeOaRm6iRKT"
   },
   "outputs": [],
   "source": [
    "#giant step baby step algorithm\n",
    "\n",
    "def discreteLogarithm(a, b, m):  \n",
    "    n = int(math.sqrt(m) + 1);   \n",
    "    for i in range(n, 0, -1):\n",
    "      for j in range(n, 0, -1):\n",
    "        if (power(a,i*n,m))==((power(a,j,m)*b)%m):\n",
    "          break\n",
    "    return i,j,n;  \n",
    "       "
   ]
  },
  {
   "cell_type": "code",
   "execution_count": 18,
   "metadata": {
    "colab": {
     "base_uri": "https://localhost:8080/",
     "height": 374
    },
    "colab_type": "code",
    "executionInfo": {
     "elapsed": 2490807,
     "status": "error",
     "timestamp": 1597392984514,
     "user": {
      "displayName": "Abhishek P",
      "photoUrl": "",
      "userId": "00544636123416321204"
     },
     "user_tz": -330
    },
    "id": "fTRz_FBRkPRS",
    "outputId": "1ed5b09d-c37b-49f1-f91e-d072301296ab"
   },
   "outputs": [
    {
     "ename": "KeyboardInterrupt",
     "evalue": "ignored",
     "output_type": "error",
     "traceback": [
      "\u001b[0;31m---------------------------------------------------------------------------\u001b[0m",
      "\u001b[0;31mKeyboardInterrupt\u001b[0m                         Traceback (most recent call last)",
      "\u001b[0;32m<ipython-input-18-29a3593e1c4a>\u001b[0m in \u001b[0;36m<module>\u001b[0;34m()\u001b[0m\n\u001b[1;32m      3\u001b[0m \u001b[0mm\u001b[0m\u001b[0;34m=\u001b[0m\u001b[0mmodulo\u001b[0m\u001b[0;34m\u001b[0m\u001b[0;34m\u001b[0m\u001b[0m\n\u001b[1;32m      4\u001b[0m \u001b[0mstart\u001b[0m\u001b[0;34m=\u001b[0m\u001b[0mtime\u001b[0m\u001b[0;34m.\u001b[0m\u001b[0mperf_counter\u001b[0m\u001b[0;34m(\u001b[0m\u001b[0;34m)\u001b[0m\u001b[0;34m\u001b[0m\u001b[0;34m\u001b[0m\u001b[0m\n\u001b[0;32m----> 5\u001b[0;31m \u001b[0man1\u001b[0m\u001b[0;34m,\u001b[0m\u001b[0man2\u001b[0m\u001b[0;34m,\u001b[0m\u001b[0man3\u001b[0m\u001b[0;34m=\u001b[0m\u001b[0mdiscreteLogarithm\u001b[0m\u001b[0;34m(\u001b[0m\u001b[0ma1\u001b[0m\u001b[0;34m,\u001b[0m \u001b[0mb1\u001b[0m\u001b[0;34m,\u001b[0m \u001b[0mm\u001b[0m\u001b[0;34m)\u001b[0m\u001b[0;34m\u001b[0m\u001b[0;34m\u001b[0m\u001b[0m\n\u001b[0m\u001b[1;32m      6\u001b[0m \u001b[0mstop\u001b[0m\u001b[0;34m=\u001b[0m\u001b[0mtime\u001b[0m\u001b[0;34m.\u001b[0m\u001b[0mperf_counter\u001b[0m\u001b[0;34m(\u001b[0m\u001b[0;34m)\u001b[0m\u001b[0;34m\u001b[0m\u001b[0;34m\u001b[0m\u001b[0m\n\u001b[1;32m      7\u001b[0m \u001b[0mprint\u001b[0m\u001b[0;34m(\u001b[0m\u001b[0man1\u001b[0m\u001b[0;34m,\u001b[0m\u001b[0man2\u001b[0m\u001b[0;34m,\u001b[0m\u001b[0man3\u001b[0m\u001b[0;34m)\u001b[0m\u001b[0;34m\u001b[0m\u001b[0;34m\u001b[0m\u001b[0m\n",
      "\u001b[0;32m<ipython-input-17-97fa4c559f17>\u001b[0m in \u001b[0;36mdiscreteLogarithm\u001b[0;34m(a, b, m)\u001b[0m\n\u001b[1;32m      5\u001b[0m     \u001b[0;32mfor\u001b[0m \u001b[0mi\u001b[0m \u001b[0;32min\u001b[0m \u001b[0mrange\u001b[0m\u001b[0;34m(\u001b[0m\u001b[0mn\u001b[0m\u001b[0;34m,\u001b[0m \u001b[0;36m0\u001b[0m\u001b[0;34m,\u001b[0m \u001b[0;34m-\u001b[0m\u001b[0;36m1\u001b[0m\u001b[0;34m)\u001b[0m\u001b[0;34m:\u001b[0m\u001b[0;34m\u001b[0m\u001b[0;34m\u001b[0m\u001b[0m\n\u001b[1;32m      6\u001b[0m       \u001b[0;32mfor\u001b[0m \u001b[0mj\u001b[0m \u001b[0;32min\u001b[0m \u001b[0mrange\u001b[0m\u001b[0;34m(\u001b[0m\u001b[0mn\u001b[0m\u001b[0;34m,\u001b[0m \u001b[0;36m0\u001b[0m\u001b[0;34m,\u001b[0m \u001b[0;34m-\u001b[0m\u001b[0;36m1\u001b[0m\u001b[0;34m)\u001b[0m\u001b[0;34m:\u001b[0m\u001b[0;34m\u001b[0m\u001b[0;34m\u001b[0m\u001b[0m\n\u001b[0;32m----> 7\u001b[0;31m         \u001b[0;32mif\u001b[0m \u001b[0;34m(\u001b[0m\u001b[0mpower\u001b[0m\u001b[0;34m(\u001b[0m\u001b[0ma\u001b[0m\u001b[0;34m,\u001b[0m\u001b[0mi\u001b[0m\u001b[0;34m*\u001b[0m\u001b[0mn\u001b[0m\u001b[0;34m,\u001b[0m\u001b[0mm\u001b[0m\u001b[0;34m)\u001b[0m\u001b[0;34m)\u001b[0m\u001b[0;34m==\u001b[0m\u001b[0;34m(\u001b[0m\u001b[0;34m(\u001b[0m\u001b[0mpower\u001b[0m\u001b[0;34m(\u001b[0m\u001b[0ma\u001b[0m\u001b[0;34m,\u001b[0m\u001b[0mj\u001b[0m\u001b[0;34m,\u001b[0m\u001b[0mm\u001b[0m\u001b[0;34m)\u001b[0m\u001b[0;34m*\u001b[0m\u001b[0mb\u001b[0m\u001b[0;34m)\u001b[0m\u001b[0;34m%\u001b[0m\u001b[0mm\u001b[0m\u001b[0;34m)\u001b[0m\u001b[0;34m:\u001b[0m\u001b[0;34m\u001b[0m\u001b[0;34m\u001b[0m\u001b[0m\n\u001b[0m\u001b[1;32m      8\u001b[0m           \u001b[0;32mbreak\u001b[0m\u001b[0;34m\u001b[0m\u001b[0;34m\u001b[0m\u001b[0m\n\u001b[1;32m      9\u001b[0m     \u001b[0;32mreturn\u001b[0m \u001b[0mi\u001b[0m\u001b[0;34m,\u001b[0m\u001b[0mj\u001b[0m\u001b[0;34m,\u001b[0m\u001b[0mn\u001b[0m\u001b[0;34m;\u001b[0m\u001b[0;34m\u001b[0m\u001b[0;34m\u001b[0m\u001b[0m\n",
      "\u001b[0;32m<ipython-input-6-9481d8381da6>\u001b[0m in \u001b[0;36mpower\u001b[0;34m(x, y, p)\u001b[0m\n\u001b[1;32m     18\u001b[0m         \u001b[0;31m# y must be even now\u001b[0m\u001b[0;34m\u001b[0m\u001b[0;34m\u001b[0m\u001b[0;34m\u001b[0m\u001b[0m\n\u001b[1;32m     19\u001b[0m         \u001b[0my\u001b[0m \u001b[0;34m=\u001b[0m \u001b[0my\u001b[0m \u001b[0;34m>>\u001b[0m \u001b[0;36m1\u001b[0m      \u001b[0;31m# y = y/2\u001b[0m\u001b[0;34m\u001b[0m\u001b[0;34m\u001b[0m\u001b[0m\n\u001b[0;32m---> 20\u001b[0;31m         \u001b[0mx\u001b[0m \u001b[0;34m=\u001b[0m \u001b[0;34m(\u001b[0m\u001b[0mx\u001b[0m \u001b[0;34m*\u001b[0m \u001b[0mx\u001b[0m\u001b[0;34m)\u001b[0m \u001b[0;34m%\u001b[0m \u001b[0mp\u001b[0m\u001b[0;34m\u001b[0m\u001b[0;34m\u001b[0m\u001b[0m\n\u001b[0m\u001b[1;32m     21\u001b[0m \u001b[0;34m\u001b[0m\u001b[0m\n\u001b[1;32m     22\u001b[0m     \u001b[0;32mreturn\u001b[0m \u001b[0mres\u001b[0m\u001b[0;34m\u001b[0m\u001b[0;34m\u001b[0m\u001b[0m\n",
      "\u001b[0;31mKeyboardInterrupt\u001b[0m: "
     ]
    }
   ],
   "source": [
    "a1=g\n",
    "b1=apbk2\n",
    "m=modulo\n",
    "start=time.perf_counter()\n",
    "an1,an2,an3=discreteLogarithm(a1, b1, m)\n",
    "stop=time.perf_counter()\n",
    "print(an1,an2,an3)\n",
    "print(stop-start,'seconds')\n"
   ]
  },
  {
   "cell_type": "code",
   "execution_count": null,
   "metadata": {
    "colab": {},
    "colab_type": "code",
    "id": "yWplGleKqmBn"
   },
   "outputs": [],
   "source": []
  },
  {
   "cell_type": "code",
   "execution_count": null,
   "metadata": {
    "colab": {},
    "colab_type": "code",
    "id": "SO5e6Cn2kPaU"
   },
   "outputs": [],
   "source": [
    "a1=g\n",
    "b2=apbk3\n",
    "m=modulo\n",
    "start=time.perf_counter()\n",
    "an4,an5,an6=discreteLogarithm(a1, b2, m)\n",
    "stop=time.perf_counter()\n",
    "print(an4,an5,an6)\n",
    "print(stop-start,'seconds')"
   ]
  },
  {
   "cell_type": "code",
   "execution_count": null,
   "metadata": {
    "colab": {},
    "colab_type": "code",
    "id": "Ax8YArAOkPVG"
   },
   "outputs": [],
   "source": []
  },
  {
   "cell_type": "code",
   "execution_count": null,
   "metadata": {
    "colab": {},
    "colab_type": "code",
    "id": "kpLHKJXnkPPn"
   },
   "outputs": [],
   "source": [
    "a1=g\n",
    "b3=apbk1\n",
    "m=modulo\n",
    "start=time.perf_counter()\n",
    "an7,an8,an9=discreteLogarithm(a1, b3, m)\n",
    "stop=time.perf_counter()\n",
    "print(an7,an8,an9)\n",
    "print(stop-start,'seconds')"
   ]
  },
  {
   "cell_type": "code",
   "execution_count": null,
   "metadata": {
    "colab": {},
    "colab_type": "code",
    "id": "WRdFJ0aDiRNn"
   },
   "outputs": [],
   "source": []
  },
  {
   "cell_type": "code",
   "execution_count": null,
   "metadata": {
    "colab": {},
    "colab_type": "code",
    "id": "w4ggfOk1iRFc"
   },
   "outputs": [],
   "source": []
  },
  {
   "cell_type": "code",
   "execution_count": null,
   "metadata": {
    "colab": {},
    "colab_type": "code",
    "id": "cXNJEKohtL6j"
   },
   "outputs": [],
   "source": []
  },
  {
   "cell_type": "code",
   "execution_count": null,
   "metadata": {
    "colab": {},
    "colab_type": "code",
    "id": "9_Kr-Yt3tMAa"
   },
   "outputs": [],
   "source": []
  },
  {
   "cell_type": "code",
   "execution_count": null,
   "metadata": {
    "colab": {},
    "colab_type": "code",
    "id": "F9G-KlJBtMFx"
   },
   "outputs": [],
   "source": []
  },
  {
   "cell_type": "code",
   "execution_count": null,
   "metadata": {
    "colab": {},
    "colab_type": "code",
    "id": "c_kSnVGVtMQp"
   },
   "outputs": [],
   "source": []
  },
  {
   "cell_type": "code",
   "execution_count": null,
   "metadata": {
    "colab": {},
    "colab_type": "code",
    "id": "IlrDKqrftMT3"
   },
   "outputs": [],
   "source": []
  },
  {
   "cell_type": "code",
   "execution_count": null,
   "metadata": {
    "colab": {},
    "colab_type": "code",
    "id": "MrE41xeLtL-q"
   },
   "outputs": [],
   "source": []
  },
  {
   "cell_type": "code",
   "execution_count": null,
   "metadata": {
    "colab": {},
    "colab_type": "code",
    "id": "ofe3LHVCtL4n"
   },
   "outputs": [],
   "source": []
  }
 ],
 "metadata": {
  "accelerator": "TPU",
  "colab": {
   "authorship_tag": "ABX9TyOrr4yeER83+kGx4WlcOsFi",
   "collapsed_sections": [],
   "name": "BDS LAB Session.ipynb",
   "provenance": []
  },
  "kernelspec": {
   "display_name": "Python 3",
   "language": "python",
   "name": "python3"
  },
  "language_info": {
   "codemirror_mode": {
    "name": "ipython",
    "version": 3
   },
   "file_extension": ".py",
   "mimetype": "text/x-python",
   "name": "python",
   "nbconvert_exporter": "python",
   "pygments_lexer": "ipython3",
   "version": "3.7.4"
  }
 },
 "nbformat": 4,
 "nbformat_minor": 1
}
