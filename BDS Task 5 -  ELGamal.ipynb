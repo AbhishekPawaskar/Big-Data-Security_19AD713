{
 "cells": [
  {
   "cell_type": "markdown",
   "metadata": {},
   "source": [
    "## Task 5(Encryption)- confidentiality\n",
    "## CB.EN.P2AID19001\n",
    "## Abhishek Rajesh Pawaskar"
   ]
  },
  {
   "cell_type": "code",
   "execution_count": null,
   "metadata": {},
   "outputs": [],
   "source": [
    "import pandas as pd\n",
    "import numpy as np\n",
    "import time\n",
    "from random import randrange, getrandbits\n",
    "from math import gcd\n",
    "import pandas as pd\n",
    "import matplotlib.pyplot as plt"
   ]
  },
  {
   "cell_type": "code",
   "execution_count": 2,
   "metadata": {},
   "outputs": [
    {
     "data": {
      "text/html": [
       "<div>\n",
       "<style scoped>\n",
       "    .dataframe tbody tr th:only-of-type {\n",
       "        vertical-align: middle;\n",
       "    }\n",
       "\n",
       "    .dataframe tbody tr th {\n",
       "        vertical-align: top;\n",
       "    }\n",
       "\n",
       "    .dataframe thead th {\n",
       "        text-align: right;\n",
       "    }\n",
       "</style>\n",
       "<table border=\"1\" class=\"dataframe\">\n",
       "  <thead>\n",
       "    <tr style=\"text-align: right;\">\n",
       "      <th></th>\n",
       "      <th>p1</th>\n",
       "      <th>p2</th>\n",
       "      <th>p3</th>\n",
       "      <th>p4</th>\n",
       "      <th>p5</th>\n",
       "      <th>p6</th>\n",
       "      <th>p7</th>\n",
       "      <th>p8</th>\n",
       "      <th>p9</th>\n",
       "      <th>p10</th>\n",
       "      <th>...</th>\n",
       "      <th>p2296</th>\n",
       "      <th>p2297</th>\n",
       "      <th>p2298</th>\n",
       "      <th>p2299</th>\n",
       "      <th>p2300</th>\n",
       "      <th>p2301</th>\n",
       "      <th>p2302</th>\n",
       "      <th>p2303</th>\n",
       "      <th>p2304</th>\n",
       "      <th>emotion</th>\n",
       "    </tr>\n",
       "  </thead>\n",
       "  <tbody>\n",
       "    <tr>\n",
       "      <th>0</th>\n",
       "      <td>70</td>\n",
       "      <td>80</td>\n",
       "      <td>82</td>\n",
       "      <td>72</td>\n",
       "      <td>58</td>\n",
       "      <td>58</td>\n",
       "      <td>60</td>\n",
       "      <td>63</td>\n",
       "      <td>54</td>\n",
       "      <td>58</td>\n",
       "      <td>...</td>\n",
       "      <td>182</td>\n",
       "      <td>183</td>\n",
       "      <td>136</td>\n",
       "      <td>106</td>\n",
       "      <td>116</td>\n",
       "      <td>95</td>\n",
       "      <td>106</td>\n",
       "      <td>109</td>\n",
       "      <td>82</td>\n",
       "      <td>0</td>\n",
       "    </tr>\n",
       "    <tr>\n",
       "      <th>1</th>\n",
       "      <td>151</td>\n",
       "      <td>150</td>\n",
       "      <td>147</td>\n",
       "      <td>155</td>\n",
       "      <td>148</td>\n",
       "      <td>133</td>\n",
       "      <td>111</td>\n",
       "      <td>140</td>\n",
       "      <td>170</td>\n",
       "      <td>174</td>\n",
       "      <td>...</td>\n",
       "      <td>108</td>\n",
       "      <td>95</td>\n",
       "      <td>108</td>\n",
       "      <td>102</td>\n",
       "      <td>67</td>\n",
       "      <td>171</td>\n",
       "      <td>193</td>\n",
       "      <td>183</td>\n",
       "      <td>184</td>\n",
       "      <td>0</td>\n",
       "    </tr>\n",
       "    <tr>\n",
       "      <th>2</th>\n",
       "      <td>231</td>\n",
       "      <td>212</td>\n",
       "      <td>156</td>\n",
       "      <td>164</td>\n",
       "      <td>174</td>\n",
       "      <td>138</td>\n",
       "      <td>161</td>\n",
       "      <td>173</td>\n",
       "      <td>182</td>\n",
       "      <td>200</td>\n",
       "      <td>...</td>\n",
       "      <td>138</td>\n",
       "      <td>152</td>\n",
       "      <td>122</td>\n",
       "      <td>114</td>\n",
       "      <td>101</td>\n",
       "      <td>97</td>\n",
       "      <td>88</td>\n",
       "      <td>110</td>\n",
       "      <td>152</td>\n",
       "      <td>2</td>\n",
       "    </tr>\n",
       "    <tr>\n",
       "      <th>3</th>\n",
       "      <td>24</td>\n",
       "      <td>32</td>\n",
       "      <td>36</td>\n",
       "      <td>30</td>\n",
       "      <td>32</td>\n",
       "      <td>23</td>\n",
       "      <td>19</td>\n",
       "      <td>20</td>\n",
       "      <td>30</td>\n",
       "      <td>41</td>\n",
       "      <td>...</td>\n",
       "      <td>126</td>\n",
       "      <td>132</td>\n",
       "      <td>132</td>\n",
       "      <td>133</td>\n",
       "      <td>136</td>\n",
       "      <td>139</td>\n",
       "      <td>142</td>\n",
       "      <td>143</td>\n",
       "      <td>142</td>\n",
       "      <td>4</td>\n",
       "    </tr>\n",
       "    <tr>\n",
       "      <th>4</th>\n",
       "      <td>4</td>\n",
       "      <td>0</td>\n",
       "      <td>0</td>\n",
       "      <td>0</td>\n",
       "      <td>0</td>\n",
       "      <td>0</td>\n",
       "      <td>0</td>\n",
       "      <td>0</td>\n",
       "      <td>0</td>\n",
       "      <td>0</td>\n",
       "      <td>...</td>\n",
       "      <td>34</td>\n",
       "      <td>31</td>\n",
       "      <td>31</td>\n",
       "      <td>31</td>\n",
       "      <td>27</td>\n",
       "      <td>31</td>\n",
       "      <td>30</td>\n",
       "      <td>29</td>\n",
       "      <td>30</td>\n",
       "      <td>6</td>\n",
       "    </tr>\n",
       "  </tbody>\n",
       "</table>\n",
       "<p>5 rows × 2305 columns</p>\n",
       "</div>"
      ],
      "text/plain": [
       "    p1   p2   p3   p4   p5   p6   p7   p8   p9  p10  ...  p2296  p2297  p2298  \\\n",
       "0   70   80   82   72   58   58   60   63   54   58  ...    182    183    136   \n",
       "1  151  150  147  155  148  133  111  140  170  174  ...    108     95    108   \n",
       "2  231  212  156  164  174  138  161  173  182  200  ...    138    152    122   \n",
       "3   24   32   36   30   32   23   19   20   30   41  ...    126    132    132   \n",
       "4    4    0    0    0    0    0    0    0    0    0  ...     34     31     31   \n",
       "\n",
       "   p2299  p2300  p2301  p2302  p2303  p2304  emotion  \n",
       "0    106    116     95    106    109     82        0  \n",
       "1    102     67    171    193    183    184        0  \n",
       "2    114    101     97     88    110    152        2  \n",
       "3    133    136    139    142    143    142        4  \n",
       "4     31     27     31     30     29     30        6  \n",
       "\n",
       "[5 rows x 2305 columns]"
      ]
     },
     "execution_count": 2,
     "metadata": {},
     "output_type": "execute_result"
    }
   ],
   "source": [
    "dat=pd.read_csv('G:\\\\mtk\\\\sem3\\\\BDS\\\\face_expression.csv')\n",
    "dat.head()"
   ]
  },
  {
   "cell_type": "code",
   "execution_count": 3,
   "metadata": {},
   "outputs": [],
   "source": [
    "ad=[485, 486, 487, 488, 489, 490, 491, 492, 493, 494, 495, 496, 497, 498, 499, 500, 501, 502, 503, 504, 505, 506, 507, 508, 509, 510, 511, 512, 513, 514, 515, 516, 517, 518, 519, 520, 521, 533, 534, 535, 536, 537, 538, 539, 540, 541, 542, 543, 544, 545, 546, 547, 548, 549, 550, 551, 552, 553, 554, 555, 556, 557, 558, 559, 560, 561, 562, 563, 564, 565, 566, 567, 568, 569, 582, 583, 584, 585, 586, 587, 588, 589, 590, 591, 592, 593, 594, 595, 596, 597, 598, 599, 600, 601, 602, 603, 604, 605, 606, 607, 608, 609, 610, 611, 612, 613, 614, 615, 616, 630, 631, 632, 633, 634, 635, 636, 637, 638, 639, 640, 641, 642, 643, 644, 645, 646, 647, 648, 649, 650, 651, 652, 653, 654, 655, 656, 657, 658, 659, 660, 661, 662, 663, 664, 679, 680, 681, 682, 683, 684, 685, 686, 687, 688, 689, 690, 691, 692, 693, 694, 695, 696, 697, 698, 699, 700, 701, 702, 703, 704, 705, 706, 707, 708, 709, 710, 711, 727, 728, 729, 730, 731, 732, 733, 734, 735, 736, 737, 738, 739, 740, 741, 742, 743, 744, 745, 746, 747, 748, 749, 750, 751, 752, 753, 754, 755, 756, 757, 758, 759, 776, 777, 778, 779, 780, 781, 782, 783, 784, 785, 786, 787, 788, 789, 790, 791, 792, 793, 794, 795, 796, 797, 798, 799, 800, 801, 802, 803, 804, 805, 806, 824, 825, 826, 827, 828, 829, 830, 831, 832, 833, 834, 835, 836, 837, 838, 839, 840, 841, 842, 843, 844, 845, 846, 847, 848, 849, 850, 851, 852, 853, 854, 873, 874, 875, 876, 877, 878, 879, 880, 881, 882, 883, 884, 885, 886, 887, 888, 889, 890, 891, 892, 893, 894, 895, 896, 897, 898, 899, 900, 901, 921, 922, 923, 924, 925, 926, 927, 928, 929, 930, 931, 932, 933, 934, 935, 936, 937, 938, 939, 940, 941, 942, 943, 944, 945, 946, 947, 948, 949, 970, 971, 972, 973, 974, 975, 976, 977, 978, 979, 980, 981, 982, 983, 984, 985, 986, 987, 988, 989, 990, 991, 992, 993, 994, 995, 996, 1018, 1019, 1020, 1021, 1022, 1023, 1024, 1025, 1026, 1027, 1028, 1029, 1030, 1031, 1032, 1033, 1034, 1035, 1036, 1037, 1038, 1039, 1040, 1041, 1042, 1043, 1044, 1067, 1068, 1069, 1070, 1071, 1072, 1073, 1074, 1075, 1076, 1077, 1078, 1079, 1080, 1081, 1082, 1083, 1084, 1085, 1086, 1087, 1088, 1089, 1090, 1091, 1115, 1116, 1117, 1118, 1119, 1120, 1121, 1122, 1123, 1124, 1125, 1126, 1127, 1128, 1129, 1130, 1131, 1132, 1133, 1134, 1135, 1136, 1137, 1138, 1139, 1164, 1165, 1166, 1167, 1168, 1169, 1170, 1171, 1172, 1173, 1174, 1175, 1176, 1177, 1178, 1179, 1180, 1181, 1182, 1183, 1184, 1185, 1186, 1212, 1213, 1214, 1215, 1216, 1217, 1218, 1219, 1220, 1221, 1222, 1223, 1224, 1225, 1226, 1227, 1228, 1229, 1230, 1231, 1232, 1233, 1234, 1261, 1262, 1263, 1264, 1265, 1266, 1267, 1268, 1269, 1270, 1271, 1272, 1273, 1274, 1275, 1276, 1277, 1278, 1279, 1280, 1281, 1309, 1310, 1311, 1312, 1313, 1314, 1315, 1316, 1317, 1318, 1319, 1320, 1321, 1322, 1323, 1324, 1325, 1326, 1327, 1328, 1329, 1358, 1359, 1360, 1361, 1362, 1363, 1364, 1365, 1366, 1367, 1368, 1369, 1370, 1371, 1372, 1373, 1374, 1375, 1376, 1406, 1407, 1408, 1409, 1410, 1411, 1412, 1413, 1414, 1415, 1416, 1417, 1418, 1419, 1420, 1421, 1422, 1423, 1424, 1455, 1456, 1457, 1458, 1459, 1460, 1461, 1462, 1463, 1464, 1465, 1466, 1467, 1468, 1469, 1470, 1471, 1503, 1504, 1505, 1506, 1507, 1508, 1509, 1510, 1511, 1512, 1513, 1514, 1515, 1516, 1517, 1518, 1519, 1552, 1553, 1554, 1555, 1556, 1557, 1558, 1559, 1560, 1561, 1562, 1563, 1564, 1565, 1566, 1600, 1601, 1602, 1603, 1604, 1605, 1606, 1607, 1608, 1609, 1610, 1611, 1612, 1613, 1614, 1649, 1650, 1651, 1652, 1653, 1654, 1655, 1656, 1657, 1658, 1659, 1660, 1661, 1697, 1698, 1699, 1700, 1701, 1702, 1703, 1704, 1705, 1706, 1707, 1708, 1709, 1746, 1747, 1748, 1749, 1750, 1751, 1752, 1753, 1754, 1755, 1756, 1794, 1795, 1796, 1797, 1798, 1799, 1800, 1801, 1802, 1803, 1804, 1843, 1844, 1845, 1846, 1847, 1848, 1849, 1850, 1851, 1891, 1892, 1893, 1894, 1895, 1896, 1897, 1898, 1899, 1940, 1941, 1942, 1943, 1944, 1945, 1946, 1988, 1989, 1990, 1991, 1992, 1993, 1994, 2037, 2038, 2039, 2040, 2041, 2085, 2086, 2087, 2088, 2089, 2134, 2135, 2136, 2182, 2183, 2184]"
   ]
  },
  {
   "cell_type": "code",
   "execution_count": 4,
   "metadata": {},
   "outputs": [],
   "source": [
    "# Python program to illustrate ElGamal encryption \n",
    "\n",
    "import random \n",
    "from math import pow\n",
    "\n",
    "a = random.randint(2, 10) \n",
    "\n",
    "def gcd(a, b):\n",
    "    if a < b:\n",
    "        return gcd(b, a) \n",
    "    elif a % b == 0: \n",
    "        return b;\n",
    "    else: \n",
    "        return gcd(b, a % b) \n",
    "\n",
    "# Generating large random numbers \n",
    "def gen_key(q):\n",
    "    key = random.randint(pow(10, 20), q) \n",
    "    while gcd(q, key) != 1:\n",
    "        key = random.randint(pow(10, 20), q) \n",
    "    \n",
    "    return key \n",
    "\n",
    "# Modular exponentiation \n",
    "def power(a, b, c): \n",
    "    x = 1\n",
    "    y = a \n",
    "    \n",
    "    while b > 0:\n",
    "        if b % 2 == 0: \n",
    "            x = (x * y) % c; \n",
    "        y = (y * y) % c \n",
    "        b = int(b / 2) \n",
    "    \n",
    "    return x % c \n",
    "\n",
    "# Asymmetric encryption \n",
    "def encrypt(msg, q, h, g, k): \n",
    "    s = power(h, k, q) \n",
    "    p = power(g, k, q) \n",
    "    en_msg=s*msg\n",
    "    return en_msg, p \n",
    "\n",
    "def decrypt(en_msg, p, key, q): \n",
    "    h = power(p, key, q) \n",
    "    return int(en_msg/h)\n"
   ]
  },
  {
   "cell_type": "code",
   "execution_count": 5,
   "metadata": {},
   "outputs": [
    {
     "name": "stdout",
     "output_type": "stream",
     "text": [
      "k: 12405953465436437721388996563895811754352142469437\n",
      "key: 14908993462438787527586762349315560773928217835075\n",
      "q: 39790071577339900343707905373313321133458388936514\n",
      "g used :  18581846700009826904611818938434230036470520360341\n",
      "g^a used :  20314473695076307571154205739871437143545218491995\n"
     ]
    }
   ],
   "source": [
    "q = random.randint(pow(10, 20), pow(10, 50)) \n",
    "g = random.randint(2, q) \n",
    "k = gen_key(q) # Private key for sender \n",
    "key = gen_key(q)# Private key for receiver \n",
    "h = power(g, key, q)\n",
    "print(\"k:\",k)\n",
    "print(\"key:\",key)\n",
    "print(\"q:\",q)\n",
    "print(\"g used : \", g) \n",
    "print(\"g^a used : \", h) "
   ]
  },
  {
   "cell_type": "code",
   "execution_count": 6,
   "metadata": {},
   "outputs": [
    {
     "name": "stdout",
     "output_type": "stream",
     "text": [
      "255\n"
     ]
    }
   ],
   "source": [
    "msg=255\n",
    "en_msg, p = encrypt(msg, q, h, g, k)\n",
    "dr_msg = decrypt(en_msg, p, key, q)\n",
    "print(dr_msg)"
   ]
  },
  {
   "cell_type": "code",
   "execution_count": 7,
   "metadata": {},
   "outputs": [],
   "source": [
    "orig=dat.iloc[0:10,0:2304].values\n",
    "send=list(orig[0])"
   ]
  },
  {
   "cell_type": "markdown",
   "metadata": {},
   "source": [
    "## Encryption"
   ]
  },
  {
   "cell_type": "code",
   "execution_count": 8,
   "metadata": {},
   "outputs": [],
   "source": [
    "enc=[]\n",
    "for i in range(0,len(send),1):\n",
    "    if i in ad:\n",
    "        en_msg, p = encrypt(send[i], q, h, g, k)\n",
    "        enc.append(en_msg)\n",
    "    else:\n",
    "        enc.append(send[i])"
   ]
  },
  {
   "cell_type": "markdown",
   "metadata": {},
   "source": [
    "## Decryption"
   ]
  },
  {
   "cell_type": "code",
   "execution_count": 9,
   "metadata": {},
   "outputs": [],
   "source": [
    "dec=[]\n",
    "for i in range(0,len(enc),1):\n",
    "    if i in ad:\n",
    "        dr_msg = decrypt(enc[i], p, key, q)\n",
    "        dec.append(dr_msg)\n",
    "    else:\n",
    "        dec.append(enc[i])"
   ]
  },
  {
   "cell_type": "code",
   "execution_count": 10,
   "metadata": {},
   "outputs": [
    {
     "data": {
      "image/png": "[encoded data removed]",
      "text/plain": [
       "<Figure size 432x288 with 1 Axes>"
      ]
     },
     "metadata": {
      "needs_background": "light"
     },
     "output_type": "display_data"
    },
    {
     "data": {
      "image/png": "[encoded data removed]",
      "text/plain": [
       "<Figure size 432x288 with 1 Axes>"
      ]
     },
     "metadata": {
      "needs_background": "light"
     },
     "output_type": "display_data"
    }
   ],
   "source": [
    "plt.imshow(np.array(send).reshape([48,48]),cmap='gray')\n",
    "plt.title('original image')\n",
    "plt.show()\n",
    "plt.imshow(np.array(dec).reshape([48,48]),cmap='gray')\n",
    "plt.title('decrypted image')\n",
    "plt.show()"
   ]
  },
  {
   "cell_type": "markdown",
   "metadata": {},
   "source": [
    "## ElGamal on complete dataset"
   ]
  },
  {
   "cell_type": "code",
   "execution_count": null,
   "metadata": {},
   "outputs": [],
   "source": [
    "col=['p'+str(i+1) for i in ad]"
   ]
  },
  {
   "cell_type": "markdown",
   "metadata": {},
   "source": [
    "## Encryption"
   ]
  },
  {
   "cell_type": "code",
   "execution_count": null,
   "metadata": {},
   "outputs": [],
   "source": [
    "start=time.perf_counter()\n",
    "p=encrypt(dat['p1'][0], q, h, g, k)[1]\n",
    "for i in col:\n",
    "    for j in range(len(dat[i])):\n",
    "        dat.loc[j,i]=encrypt(dat[i][j], q, h, g, k)[0]\n",
    "        \n",
    "stop=time.perf_counter()\n",
    "print(stop-start,'seconds')"
   ]
  },
  {
   "cell_type": "markdown",
   "metadata": {},
   "source": [
    "## Decryption"
   ]
  },
  {
   "cell_type": "code",
   "execution_count": null,
   "metadata": {},
   "outputs": [],
   "source": [
    "start=time.perf_counter()\n",
    "for i in col:\n",
    "    for j in range(len(dat[i])):\n",
    "        dat.loc[j,i]=decrypt(dat[i][j], p, key, q)\n",
    "        \n",
    "stop=time.perf_counter()\n",
    "print(stop-start,'seconds')"
   ]
  },
  {
   "cell_type": "markdown",
   "metadata": {},
   "source": [
    "## Sample of retrieved image"
   ]
  },
  {
   "cell_type": "code",
   "execution_count": null,
   "metadata": {},
   "outputs": [],
   "source": [
    "plt.imshow(dat.iloc[6:7,0:2304].values.reshape([48,48]),cmap='gray')\n",
    "plt.title('original image')\n",
    "plt.show()"
   ]
  },
  {
   "cell_type": "code",
   "execution_count": null,
   "metadata": {},
   "outputs": [],
   "source": []
  },
  {
   "cell_type": "code",
   "execution_count": null,
   "metadata": {},
   "outputs": [],
   "source": []
  }
 ],
 "metadata": {
  "kernelspec": {
   "display_name": "Python 3",
   "language": "python",
   "name": "python3"
  },
  "language_info": {
   "codemirror_mode": {
    "name": "ipython",
    "version": 3
   },
   "file_extension": ".py",
   "mimetype": "text/x-python",
   "name": "python",
   "nbconvert_exporter": "python",
   "pygments_lexer": "ipython3",
   "version": "3.7.4"
  }
 },
 "nbformat": 4,
 "nbformat_minor": 2
}
