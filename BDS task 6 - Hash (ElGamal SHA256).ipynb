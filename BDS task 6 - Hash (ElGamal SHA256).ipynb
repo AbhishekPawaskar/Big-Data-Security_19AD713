{
 "cells": [
  {
   "cell_type": "markdown",
   "metadata": {},
   "source": [
    "## Task 6(Message Authentication) \n",
    "## CB.EN.P2AID19001\n",
    "## Abhishek Rajesh Pawaskar"
   ]
  },
  {
   "cell_type": "code",
   "execution_count": 1,
   "metadata": {},
   "outputs": [],
   "source": [
    "import pandas as pd\n",
    "import numpy as np\n",
    "import time\n",
    "import random \n",
    "from math import pow\n",
    "from random import randrange, getrandbits\n",
    "from math import gcd\n",
    "import hashlib\n",
    "import pandas as pd\n",
    "import matplotlib.pyplot as plt\n",
    "import ast"
   ]
  },
  {
   "cell_type": "code",
   "execution_count": 2,
   "metadata": {},
   "outputs": [],
   "source": [
    "# Python program to illustrate ElGamal encryption \n",
    "\n",
    "a = random.randint(2, 10) \n",
    "\n",
    "def gcd(a, b):\n",
    "    if a < b:\n",
    "        return gcd(b, a) \n",
    "    elif a % b == 0: \n",
    "        return b;\n",
    "    else: \n",
    "        return gcd(b, a % b) \n",
    "\n",
    "# Generating large random numbers \n",
    "def gen_key(q):\n",
    "    key = random.randint(pow(10, 20), q) \n",
    "    while gcd(q, key) != 1:\n",
    "        key = random.randint(pow(10, 20), q) \n",
    "    \n",
    "    return key \n",
    "\n",
    "# Modular exponentiation \n",
    "def power(a, b, c): \n",
    "    x = 1\n",
    "    y = a \n",
    "    \n",
    "    while b > 0:\n",
    "        if b % 2 == 0: \n",
    "            x = (x * y) % c; \n",
    "        y = (y * y) % c \n",
    "        b = int(b / 2) \n",
    "    \n",
    "    return x % c \n",
    "\n",
    "# Asymmetric encryption \n",
    "def encrypt(msg, q, h, g, k): \n",
    "    s = power(h, k, q) \n",
    "    p = power(g, k, q) \n",
    "    en_msg=s*msg\n",
    "    return en_msg, p \n",
    "\n",
    "def decrypt(en_msg, p, key, q): \n",
    "    h = power(p, key, q) \n",
    "    return int(en_msg/h)\n"
   ]
  },
  {
   "cell_type": "code",
   "execution_count": 3,
   "metadata": {},
   "outputs": [
    {
     "name": "stdout",
     "output_type": "stream",
     "text": [
      "k: 5732962075926551785305475681566416009262142412911\n",
      "key: 379676803269407257860244271508668443130877527548\n",
      "q: 6069525342930151533276215435903788652710878395361\n",
      "g used :  5408441170665107257403754068664339255478643820965\n",
      "g^a used :  4170660536550322873889415799147549521236668730510\n"
     ]
    }
   ],
   "source": [
    "q = random.randint(pow(10, 20), pow(10, 50)) \n",
    "g = random.randint(2, q) \n",
    "k = gen_key(q) # Private key for sender \n",
    "key = gen_key(q)# Private key for receiver \n",
    "h = power(g, key, q)\n",
    "print(\"k:\",k)\n",
    "print(\"key:\",key)\n",
    "print(\"q:\",q)\n",
    "print(\"g used : \", g) \n",
    "print(\"g^a used : \", h)"
   ]
  },
  {
   "cell_type": "code",
   "execution_count": 4,
   "metadata": {},
   "outputs": [
    {
     "data": {
      "text/html": [
       "<div>\n",
       "<style scoped>\n",
       "    .dataframe tbody tr th:only-of-type {\n",
       "        vertical-align: middle;\n",
       "    }\n",
       "\n",
       "    .dataframe tbody tr th {\n",
       "        vertical-align: top;\n",
       "    }\n",
       "\n",
       "    .dataframe thead th {\n",
       "        text-align: right;\n",
       "    }\n",
       "</style>\n",
       "<table border=\"1\" class=\"dataframe\">\n",
       "  <thead>\n",
       "    <tr style=\"text-align: right;\">\n",
       "      <th></th>\n",
       "      <th>pixels</th>\n",
       "    </tr>\n",
       "  </thead>\n",
       "  <tbody>\n",
       "    <tr>\n",
       "      <th>0</th>\n",
       "      <td>70 80 82 72 58 58 60 63 54 58 60 48 89 115 121...</td>\n",
       "    </tr>\n",
       "    <tr>\n",
       "      <th>1</th>\n",
       "      <td>151 150 147 155 148 133 111 140 170 174 182 15...</td>\n",
       "    </tr>\n",
       "    <tr>\n",
       "      <th>2</th>\n",
       "      <td>231 212 156 164 174 138 161 173 182 200 106 38...</td>\n",
       "    </tr>\n",
       "    <tr>\n",
       "      <th>3</th>\n",
       "      <td>24 32 36 30 32 23 19 20 30 41 21 22 32 34 21 1...</td>\n",
       "    </tr>\n",
       "    <tr>\n",
       "      <th>4</th>\n",
       "      <td>4 0 0 0 0 0 0 0 0 0 0 0 3 15 23 28 48 50 58 84...</td>\n",
       "    </tr>\n",
       "  </tbody>\n",
       "</table>\n",
       "</div>"
      ],
      "text/plain": [
       "                                              pixels\n",
       "0  70 80 82 72 58 58 60 63 54 58 60 48 89 115 121...\n",
       "1  151 150 147 155 148 133 111 140 170 174 182 15...\n",
       "2  231 212 156 164 174 138 161 173 182 200 106 38...\n",
       "3  24 32 36 30 32 23 19 20 30 41 21 22 32 34 21 1...\n",
       "4  4 0 0 0 0 0 0 0 0 0 0 0 3 15 23 28 48 50 58 84..."
      ]
     },
     "execution_count": 4,
     "metadata": {},
     "output_type": "execute_result"
    }
   ],
   "source": [
    "dat=pd.read_csv('G:\\\\mtk\\\\sem3\\\\BDS\\\\sample.csv')\n",
    "dat.head()"
   ]
  },
  {
   "cell_type": "markdown",
   "metadata": {},
   "source": [
    "## 1.) ElGamal 256 on a complete file(column)"
   ]
  },
  {
   "cell_type": "markdown",
   "metadata": {},
   "source": [
    "### Data/message"
   ]
  },
  {
   "cell_type": "code",
   "execution_count": 5,
   "metadata": {},
   "outputs": [],
   "source": [
    "me=dat['pixels']"
   ]
  },
  {
   "cell_type": "markdown",
   "metadata": {},
   "source": [
    "### Message Digest(using hashing) in hexadecimal"
   ]
  },
  {
   "cell_type": "code",
   "execution_count": 6,
   "metadata": {},
   "outputs": [
    {
     "name": "stdout",
     "output_type": "stream",
     "text": [
      "0.004990399999996953 seconds\n"
     ]
    }
   ],
   "source": [
    "start=time.perf_counter()\n",
    "message_dig = hashlib.new('sha256',str(me).encode()).hexdigest()\n",
    "stop=time.perf_counter()\n",
    "print(stop-start,'seconds')"
   ]
  },
  {
   "cell_type": "code",
   "execution_count": 7,
   "metadata": {},
   "outputs": [],
   "source": [
    "message_dig_int=[ord(message_dig[i]) for i in range(len(message_dig))]"
   ]
  },
  {
   "cell_type": "markdown",
   "metadata": {},
   "source": [
    "### Encryption El Gamal"
   ]
  },
  {
   "cell_type": "code",
   "execution_count": 8,
   "metadata": {},
   "outputs": [],
   "source": [
    "enc=[]\n",
    "p=0\n",
    "for i in range(len(message_dig_int)):\n",
    "    enn,p=encrypt(message_dig_int[i], q, h, g, k)\n",
    "    enc.append(enn)"
   ]
  },
  {
   "cell_type": "markdown",
   "metadata": {},
   "source": [
    "### Decryption El Gamal"
   ]
  },
  {
   "cell_type": "code",
   "execution_count": 9,
   "metadata": {},
   "outputs": [],
   "source": [
    "dec=[decrypt(enc[i], p, key, q) for i in range(len(enc))]"
   ]
  },
  {
   "cell_type": "markdown",
   "metadata": {},
   "source": [
    "### Message Digest Extraction and verification"
   ]
  },
  {
   "cell_type": "code",
   "execution_count": 10,
   "metadata": {},
   "outputs": [
    {
     "name": "stdout",
     "output_type": "stream",
     "text": [
      "data authentic\n"
     ]
    }
   ],
   "source": [
    "mes=''\n",
    "for i in range(len(dec)):\n",
    "    mes=mes+chr(dec[i])\n",
    "    \n",
    "if mes==message_dig:\n",
    "    print('data authentic')"
   ]
  },
  {
   "cell_type": "markdown",
   "metadata": {},
   "source": [
    "## 2. SHA256 on every record(row)"
   ]
  },
  {
   "cell_type": "markdown",
   "metadata": {},
   "source": [
    "### Message Digest(using hashing) in hexadecimal"
   ]
  },
  {
   "cell_type": "code",
   "execution_count": 11,
   "metadata": {},
   "outputs": [
    {
     "name": "stdout",
     "output_type": "stream",
     "text": [
      "1.8537155000000212 seconds\n"
     ]
    }
   ],
   "source": [
    "start=time.perf_counter()\n",
    "with open(\"G:\\\\mtk\\\\sem3\\\\BDS\\\\sample.csv\",'rb')  as file:\n",
    "    with open(\"G:\\\\mtk\\\\sem3\\\\BDS\\\\samplw.csv\",'w')  as output:\n",
    "        for line in file:\n",
    "            line=line.strip()\n",
    "            output.write(hashlib.sha256(line).hexdigest() +'\\n')\n",
    "    \n",
    "stop=time.perf_counter()\n",
    "print(stop-start,'seconds')"
   ]
  },
  {
   "cell_type": "markdown",
   "metadata": {},
   "source": [
    "### Encryption El Gamal"
   ]
  },
  {
   "cell_type": "code",
   "execution_count": 12,
   "metadata": {},
   "outputs": [],
   "source": [
    "start=time.perf_counter()\n",
    "enc=[]\n",
    "with open(\"G:\\\\mtk\\\\sem3\\\\BDS\\\\samplw.csv\",'rb')  as file:\n",
    "    for line in file:\n",
    "        line=line.strip()\n",
    "        line1=[line[i] for i in range(len(line))]\n",
    "        p=encrypt(line1[0], q, h, g, k)[1]\n",
    "        en1=[encrypt(line1[i], q, h, g, k)[0] for i in range(len(line1))]\n",
    "        enc.append(en1)\n",
    "stop=time.perf_counter()\n",
    "print(stop-start,'seconds')"
   ]
  },
  {
   "cell_type": "markdown",
   "metadata": {},
   "source": [
    "### Decryption El Gamal"
   ]
  },
  {
   "cell_type": "code",
   "execution_count": 20,
   "metadata": {},
   "outputs": [],
   "source": [
    "dec=[]\n",
    "for i in enc:\n",
    "    de1=[chr(decrypt(i[f], p, key, q)) for f in range(len(i))]\n",
    "    ns=''\n",
    "    for s in de1:\n",
    "        ns=ns+s   \n",
    "    dec.append(ns)"
   ]
  },
  {
   "cell_type": "markdown",
   "metadata": {},
   "source": [
    "### Message Digest Extraction and verification"
   ]
  },
  {
   "cell_type": "code",
   "execution_count": 21,
   "metadata": {},
   "outputs": [
    {
     "data": {
      "text/plain": [
       "'successful authentication'"
      ]
     },
     "execution_count": 21,
     "metadata": {},
     "output_type": "execute_result"
    }
   ],
   "source": [
    "def mes_auth():\n",
    "    l=0\n",
    "    with open(\"G:\\\\mtk\\\\sem3\\\\BDS\\\\samplw.csv\",'rb')  as file:\n",
    "        for li in file:\n",
    "            if li.strip().decode()!=dec[l]:\n",
    "                return 'failed Authentication'\n",
    "            l=l+1\n",
    "    return 'successful authentication'\n",
    "\n",
    "mes_auth()"
   ]
  },
  {
   "cell_type": "code",
   "execution_count": null,
   "metadata": {},
   "outputs": [],
   "source": []
  },
  {
   "cell_type": "code",
   "execution_count": 22,
   "metadata": {},
   "outputs": [
    {
     "data": {
      "text/plain": [
       "[586030722259760774037121085860597625013197369798056,\n",
       " 592072276097490266552967694993181105683436517940304,\n",
       " 302077691886474625792330456629174033511957407112400,\n",
       " 598113829935219759068814304125764586353675666082552,\n",
       " 289994584211015640760637238364007072171479110827904,\n",
       " 338327014912851580887410111424674917533392295965888,\n",
       " 338327014912851580887410111424674917533392295965888,\n",
       " 289994584211015640760637238364007072171479110827904,\n",
       " 332285461075122088371563502292091436863153147823640,\n",
       " 308119245724204118308177065761757514182196555254648,\n",
       " 344368568750581073403256720557258398203631444108136,\n",
       " 320202353399663103339870284026924475522674851539144,\n",
       " 320202353399663103339870284026924475522674851539144,\n",
       " 289994584211015640760637238364007072171479110827904,\n",
       " 604155383772949251584660913258348067023914814224800,\n",
       " 314160799561933610824023674894340994852435703396896,\n",
       " 598113829935219759068814304125764586353675666082552,\n",
       " 616238491448408236616354131523515028364393110509296,\n",
       " 338327014912851580887410111424674917533392295965888,\n",
       " 332285461075122088371563502292091436863153147823640,\n",
       " 296036138048745133276483847496590552841718258970152,\n",
       " 338327014912851580887410111424674917533392295965888,\n",
       " 308119245724204118308177065761757514182196555254648,\n",
       " 308119245724204118308177065761757514182196555254648,\n",
       " 586030722259760774037121085860597625013197369798056,\n",
       " 320202353399663103339870284026924475522674851539144,\n",
       " 320202353399663103339870284026924475522674851539144,\n",
       " 338327014912851580887410111424674917533392295965888,\n",
       " 320202353399663103339870284026924475522674851539144,\n",
       " 598113829935219759068814304125764586353675666082552,\n",
       " 308119245724204118308177065761757514182196555254648,\n",
       " 296036138048745133276483847496590552841718258970152,\n",
       " 592072276097490266552967694993181105683436517940304,\n",
       " 598113829935219759068814304125764586353675666082552,\n",
       " 314160799561933610824023674894340994852435703396896,\n",
       " 610196937610678744100507522390931547694153962367048,\n",
       " 586030722259760774037121085860597625013197369798056,\n",
       " 616238491448408236616354131523515028364393110509296,\n",
       " 308119245724204118308177065761757514182196555254648,\n",
       " 604155383772949251584660913258348067023914814224800,\n",
       " 314160799561933610824023674894340994852435703396896,\n",
       " 338327014912851580887410111424674917533392295965888,\n",
       " 289994584211015640760637238364007072171479110827904,\n",
       " 308119245724204118308177065761757514182196555254648,\n",
       " 296036138048745133276483847496590552841718258970152,\n",
       " 326243907237392595855716893159507956192913999681392,\n",
       " 616238491448408236616354131523515028364393110509296,\n",
       " 314160799561933610824023674894340994852435703396896,\n",
       " 326243907237392595855716893159507956192913999681392,\n",
       " 586030722259760774037121085860597625013197369798056,\n",
       " 296036138048745133276483847496590552841718258970152,\n",
       " 289994584211015640760637238364007072171479110827904,\n",
       " 332285461075122088371563502292091436863153147823640,\n",
       " 289994584211015640760637238364007072171479110827904,\n",
       " 604155383772949251584660913258348067023914814224800,\n",
       " 314160799561933610824023674894340994852435703396896,\n",
       " 338327014912851580887410111424674917533392295965888,\n",
       " 616238491448408236616354131523515028364393110509296,\n",
       " 314160799561933610824023674894340994852435703396896,\n",
       " 616238491448408236616354131523515028364393110509296,\n",
       " 314160799561933610824023674894340994852435703396896,\n",
       " 616238491448408236616354131523515028364393110509296,\n",
       " 604155383772949251584660913258348067023914814224800,\n",
       " 586030722259760774037121085860597625013197369798056]"
      ]
     },
     "execution_count": 22,
     "metadata": {},
     "output_type": "execute_result"
    }
   ],
   "source": [
    "enc[1]"
   ]
  },
  {
   "cell_type": "code",
   "execution_count": 23,
   "metadata": {},
   "outputs": [
    {
     "data": {
      "text/plain": [
       "'ab2c0880739550d4cf871833a5585c31bc4eaf3d480316f46a1070d48f4f4fda'"
      ]
     },
     "execution_count": 23,
     "metadata": {},
     "output_type": "execute_result"
    }
   ],
   "source": [
    "dec[1]"
   ]
  },
  {
   "cell_type": "code",
   "execution_count": null,
   "metadata": {},
   "outputs": [],
   "source": []
  },
  {
   "cell_type": "code",
   "execution_count": null,
   "metadata": {},
   "outputs": [],
   "source": []
  }
 ],
 "metadata": {
  "kernelspec": {
   "display_name": "Python 3",
   "language": "python",
   "name": "python3"
  },
  "language_info": {
   "codemirror_mode": {
    "name": "ipython",
    "version": 3
   },
   "file_extension": ".py",
   "mimetype": "text/x-python",
   "name": "python",
   "nbconvert_exporter": "python",
   "pygments_lexer": "ipython3",
   "version": "3.7.4"
  }
 },
 "nbformat": 4,
 "nbformat_minor": 2
}
